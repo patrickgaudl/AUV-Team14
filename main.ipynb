{
 "cells": [
  {
   "cell_type": "markdown",
   "id": "cbc57604",
   "metadata": {},
   "source": [
    "# Imports"
   ]
  },
  {
   "cell_type": "code",
   "execution_count": 1,
   "id": "9a385ca5",
   "metadata": {},
   "outputs": [],
   "source": [
    "import os\n",
    "from PIL import Image\n",
    "import pandas as pd\n",
    "import numpy as np\n",
    "import shutil\n",
    "import matplotlib.pyplot as plt\n",
    "import csv\n",
    "import pickle"
   ]
  },
  {
   "cell_type": "markdown",
   "id": "d28c1308",
   "metadata": {},
   "source": [
    "# Input pipeline and preprocessing"
   ]
  },
  {
   "cell_type": "markdown",
   "id": "7155def4",
   "metadata": {},
   "source": [
    "## Dataset"
   ]
  },
  {
   "cell_type": "code",
   "execution_count": 2,
   "id": "2db2b19d",
   "metadata": {},
   "outputs": [],
   "source": [
    "# function for reading the images\n",
    "# arguments: path to the traffic sign data, for example './GTSRB/Training'\n",
    "# returns: list of images, list of corresponding labels \n",
    "def readTrafficSigns(rootpath):\n",
    "    '''Reads traffic sign data for German Traffic Sign Recognition Benchmark.\n",
    "\n",
    "    Arguments: path to the traffic sign data, for example './GTSRB/Training'\n",
    "    Returns:   list of images, list of corresponding labels'''\n",
    "    images = [] # images\n",
    "    labels = [] # corresponding labels\n",
    "    # loop over all 42 classes\n",
    "    for c in range(0,43):\n",
    "        prefix = rootpath + '/' + format(c, '05d') + '/' # subdirectory for class\n",
    "        gtFile = open(prefix + 'GT-'+ format(c, '05d') + '.csv') # annotations file\n",
    "        gtReader = csv.reader(gtFile, delimiter=';') # csv parser for annotations file\n",
    "        next(gtReader) # skip header\n",
    "        # loop over all images in current annotations file\n",
    "        for row in gtReader:\n",
    "            images.append(plt.imread(prefix + row[0])) # the 1th column is the filename\n",
    "            labels.append(row[7]) # the 8th column is the label\n",
    "        gtFile.close()\n",
    "    return images, labels\n",
    "\n",
    "X_train, y_train = readTrafficSigns('./data/Training')"
   ]
  },
  {
   "cell_type": "code",
   "execution_count": null,
   "id": "1fa8d686",
   "metadata": {},
   "outputs": [
    {
     "name": "stdout",
     "output_type": "stream",
     "text": [
      "39209 39209\n"
     ]
    },
    {
     "data": {
      "image/png": "[encoded data removed]",
      "text/plain": [
       "<Figure size 640x480 with 1 Axes>"
      ]
     },
     "metadata": {},
     "output_type": "display_data"
    }
   ],
   "source": [
    "print(len(X_train), len(y_train))\n",
    "plt.imshow(X_train[42])\n",
    "plt.show()"
   ]
  },
  {
   "cell_type": "code",
   "execution_count": 3,
   "id": "5082bf02",
   "metadata": {},
   "outputs": [],
   "source": [
    "# Dictionaries erstellen\n",
    "train = {'features': X_train, 'labels': y_train}\n",
    "#valid = {'features': X_valid, 'labels': y_valid}\n",
    "#test  = {'features': X_test,  'labels': y_test}\n",
    "\n",
    "# Speichern\n",
    "with open('./data/train.pkl', 'wb') as f:\n",
    "    pickle.dump(train, f)\n",
    "#with open('traffic-signs-data/valid.p', 'wb') as f:\n",
    "#    pickle.dump(valid, f)\n",
    "#with open('./data/test.p', 'wb') as f:\n",
    "#    pickle.dump(test, f)"
   ]
  },
  {
   "cell_type": "code",
   "execution_count": 4,
   "id": "7fa4d26c",
   "metadata": {},
   "outputs": [
    {
     "name": "stdout",
     "output_type": "stream",
     "text": [
      "(30, 29, 3)\n",
      "0\n"
     ]
    }
   ],
   "source": [
    "with open('./data/train.pkl', 'rb') as f:\n",
    "    train = pickle.load(f)\n",
    "\n",
    "print(train['features'][0].shape)\n",
    "print(train['labels'][0])"
   ]
  },
  {
   "cell_type": "markdown",
   "id": "2838e3c9",
   "metadata": {},
   "source": [
    "# Training"
   ]
  },
  {
   "cell_type": "code",
   "execution_count": null,
   "id": "2cec6ea8",
   "metadata": {},
   "outputs": [],
   "source": [
    "# ..."
   ]
  },
  {
   "cell_type": "markdown",
   "id": "c67d82b2",
   "metadata": {},
   "source": [
    "# Evaluation"
   ]
  },
  {
   "cell_type": "code",
   "execution_count": null,
   "id": "ba8652bf",
   "metadata": {},
   "outputs": [],
   "source": [
    "# ..."
   ]
  }
 ],
 "metadata": {
  "kernelspec": {
   "display_name": "base",
   "language": "python",
   "name": "python3"
  },
  "language_info": {
   "codemirror_mode": {
    "name": "ipython",
    "version": 3
   },
   "file_extension": ".py",
   "mimetype": "text/x-python",
   "name": "python",
   "nbconvert_exporter": "python",
   "pygments_lexer": "ipython3",
   "version": "3.12.9"
  }
 },
 "nbformat": 4,
 "nbformat_minor": 5
}
