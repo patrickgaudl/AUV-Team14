{
 "cells": [
  {
   "cell_type": "markdown",
   "id": "cbc57604",
   "metadata": {},
   "source": [
    "# Imports"
   ]
  },
  {
   "cell_type": "code",
   "execution_count": null,
   "id": "9a385ca5",
   "metadata": {},
   "outputs": [],
   "source": [
    "import os\n",
    "from PIL import Image\n",
    "import pandas as pd\n",
    "import shutil"
   ]
  },
  {
   "cell_type": "markdown",
   "id": "d28c1308",
   "metadata": {},
   "source": [
    "# Input pipeline and preprocessing"
   ]
  },
  {
   "cell_type": "markdown",
   "id": "382d4991",
   "metadata": {},
   "source": [
    "## Convert images to jpg"
   ]
  },
  {
   "cell_type": "code",
   "execution_count": null,
   "id": "90c09c78",
   "metadata": {},
   "outputs": [],
   "source": [
    "# for test dataset, create a \"images\" folder, which has the same structure as the original dataset, but jpg instead of ppm\n",
    "# copy images and other files, do not delete the original dataset\n",
    "path = \"\\\\test\\\\images_ppm\"\n",
    "\n",
    "n = 0\n",
    "images_path = os.path.join(os.path.dirname(path), \"images\")\n",
    "os.makedirs(images_path, exist_ok=True)\n",
    "\n",
    "# copy images\n",
    "for file in os.listdir(path):\n",
    "    src = os.path.join(path, file)\n",
    "    # Nur Dateien verarbeiten, keine Verzeichnisse\n",
    "    if not os.path.isfile(src):\n",
    "        continue\n",
    "    \n",
    "    if file.endswith(\".ppm\"):\n",
    "        dst = os.path.join(images_path, file.replace(\".ppm\", \".jpg\"))\n",
    "        img = Image.open(src)\n",
    "        img.convert(\"RGB\").save(dst, \"JPEG\")\n",
    "    \n",
    "    else:\n",
    "        dst = os.path.join(images_path, file)\n",
    "        shutil.copyfile(src, dst)\n",
    "    \n",
    "    n += 1\n",
    "    if n % 100 == 0:\n",
    "        print(f\"Processed {n} files in {path}\")"
   ]
  },
  {
   "cell_type": "code",
   "execution_count": null,
   "id": "0fdb4753",
   "metadata": {},
   "outputs": [],
   "source": [
    "# for the train_val dataset, imnages are in subfolders, where each subfolder is a class\n",
    "# copy images and other files into one \"images\" folder, add class label to the filename (e.g. \"class1_0001.jpg\")\n",
    "path = \"\\\\train_val\\\\images_ppm\"\n",
    "n = 0\n",
    "\n",
    "images_path = os.path.join(os.path.dirname(path), \"images\")\n",
    "os.makedirs(images_path, exist_ok=True)\n",
    "\n",
    "# copy images\n",
    "for root, dirs, files in os.walk(path):\n",
    "    for file in files:\n",
    "        src = os.path.join(root, file)\n",
    "        # Nur Dateien verarbeiten, keine Verzeichnisse\n",
    "        if not os.path.isfile(src):\n",
    "            continue\n",
    "        \n",
    "        if file.endswith(\".ppm\"):\n",
    "            class_name = os.path.basename(root)\n",
    "            dst = os.path.join(images_path, f\"{class_name}_{file.replace('.ppm', '.jpg')}\")\n",
    "            img = Image.open(src)\n",
    "            img.convert(\"RGB\").save(dst, \"JPEG\")\n",
    "        \n",
    "        else:\n",
    "            dst = os.path.join(images_path, file)\n",
    "            shutil.copyfile(src, dst)\n",
    "        \n",
    "        n += 1\n",
    "        if n % 100 == 0:\n",
    "            print(f\"Processed {n} files in {path}\")"
   ]
  },
  {
   "cell_type": "markdown",
   "id": "93cf4fa3",
   "metadata": {},
   "source": [
    "## Convert labels (?)"
   ]
  },
  {
   "cell_type": "markdown",
   "id": "7155def4",
   "metadata": {},
   "source": [
    "## YOLO dataset"
   ]
  },
  {
   "cell_type": "code",
   "execution_count": null,
   "id": "b3c21a7c",
   "metadata": {},
   "outputs": [],
   "source": [
    "# convert csv annotations to YOLO format\n",
    "# ..."
   ]
  },
  {
   "cell_type": "code",
   "execution_count": null,
   "id": "5082bf02",
   "metadata": {},
   "outputs": [],
   "source": [
    "# create yaml file for yolo"
   ]
  },
  {
   "cell_type": "markdown",
   "id": "2838e3c9",
   "metadata": {},
   "source": [
    "# Training"
   ]
  },
  {
   "cell_type": "code",
   "execution_count": null,
   "id": "2cec6ea8",
   "metadata": {},
   "outputs": [],
   "source": [
    "# ..."
   ]
  },
  {
   "cell_type": "markdown",
   "id": "c67d82b2",
   "metadata": {},
   "source": [
    "# Evaluation"
   ]
  },
  {
   "cell_type": "code",
   "execution_count": null,
   "id": "ba8652bf",
   "metadata": {},
   "outputs": [],
   "source": [
    "# ..."
   ]
  }
 ],
 "metadata": {
  "kernelspec": {
   "display_name": "base",
   "language": "python",
   "name": "python3"
  },
  "language_info": {
   "codemirror_mode": {
    "name": "ipython",
    "version": 3
   },
   "file_extension": ".py",
   "mimetype": "text/x-python",
   "name": "python",
   "nbconvert_exporter": "python",
   "pygments_lexer": "ipython3",
   "version": "3.12.9"
  }
 },
 "nbformat": 4,
 "nbformat_minor": 5
}
